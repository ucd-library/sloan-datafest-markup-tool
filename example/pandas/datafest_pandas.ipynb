{
  "nbformat": 4,
  "nbformat_minor": 0,
  "metadata": {
    "colab": {
      "name": "datafest_pandas.ipynb",
      "provenance": [],
      "collapsed_sections": []
    },
    "kernelspec": {
      "name": "python3",
      "display_name": "Python 3"
    }
  },
  "cells": [
    {
      "cell_type": "markdown",
      "metadata": {
        "colab_type": "text",
        "id": "rHLcriKWLRe4"
      },
      "source": [
        "# Datafest Pandas\n"
      ]
    },
    {
      "cell_type": "markdown",
      "metadata": {
        "colab_type": "text",
        "id": "TIFJ83ZTBctl"
      },
      "source": [
        "[*pandas*](http://pandas.pydata.org/) is a column-oriented data analysis API. It's a great tool for handling and analyzing input data, and many ML frameworks support *pandas* data structures as inputs.\n",
        "Although a comprehensive introduction to the *pandas* API would span many pages, the core concepts are fairly straightforward, and we'll present them below. For a more complete reference, the [*pandas* docs site](http://pandas.pydata.org/pandas-docs/stable/index.html) contains extensive documentation and many tutorials."
      ]
    },
    {
      "cell_type": "markdown",
      "metadata": {
        "colab_type": "text",
        "id": "s_JOISVgmn9v"
      },
      "source": [
        "## Basic Concepts\n",
        "\n",
        "The following line imports the *pandas* API and prints the API version:"
      ]
    },
    {
      "cell_type": "code",
      "metadata": {
        "colab_type": "code",
        "id": "aSRYu62xUi3g",
        "outputId": "4294d46e-603e-4cb3-d9df-6a03affd6dd5",
        "colab": {
          "base_uri": "https://localhost:8080/",
          "height": 88
        }
      },
      "source": [
        "from __future__ import print_function\n",
        "\n",
        "import psycopg2\n",
        "\n",
        "import pandas as pd\n",
        "pd.__version__\n",
        "\n"
      ],
      "execution_count": 0,
      "outputs": [
        {
          "output_type": "stream",
          "text": [
            "/usr/local/lib/python3.6/dist-packages/psycopg2/__init__.py:144: UserWarning: The psycopg2 wheel package will be renamed from release 2.8; in order to keep installing from binary please use \"pip install psycopg2-binary\" instead. For details see: <http://initd.org/psycopg/docs/install.html#binary-install-from-pypi>.\n",
            "  \"\"\")\n"
          ],
          "name": "stderr"
        },
        {
          "output_type": "execute_result",
          "data": {
            "text/plain": [
              "'0.25.3'"
            ]
          },
          "metadata": {
            "tags": []
          },
          "execution_count": 1
        }
      ]
    },
    {
      "cell_type": "markdown",
      "metadata": {
        "colab_type": "text",
        "id": "daQreKXIUslr"
      },
      "source": [
        "The primary data structures in *pandas* are implemented as two classes:\n",
        "\n",
        "  * **`DataFrame`**, which you can imagine as a relational data table, with rows and named columns.\n",
        "  * **`Series`**, which is a single column. A `DataFrame` contains one or more `Series` and a name for each `Series`.\n"
      ]
    },
    {
      "cell_type": "markdown",
      "metadata": {
        "colab_type": "text",
        "id": "fjnAk1xcU0yc"
      },
      "source": [
        "One way to create a `Series` is to construct a `Series` object. For example:"
      ]
    },
    {
      "cell_type": "code",
      "metadata": {
        "colab_type": "code",
        "id": "DFZ42Uq7UFDj",
        "outputId": "1bd09d19-2e13-489d-9785-b0bdab3fb781",
        "colab": {
          "base_uri": "https://localhost:8080/",
          "height": 85
        }
      },
      "source": [
        "pd.Series(['Red', 'White', 'Rosé'])"
      ],
      "execution_count": 0,
      "outputs": [
        {
          "output_type": "execute_result",
          "data": {
            "text/plain": [
              "0      Red\n",
              "1    White\n",
              "2     Rosé\n",
              "dtype: object"
            ]
          },
          "metadata": {
            "tags": []
          },
          "execution_count": 3
        }
      ]
    },
    {
      "cell_type": "markdown",
      "metadata": {
        "colab_type": "text",
        "id": "U5ouUp1cU6pC"
      },
      "source": [
        "`DataFrame` objects can be created by passing a `dict` mapping `string` column names to their respective `Series`. If the `Series` don't match in length, missing values are filled with special [NA/NaN](http://pandas.pydata.org/pandas-docs/stable/missing_data.html) values. Example:"
      ]
    },
    {
      "cell_type": "code",
      "metadata": {
        "colab_type": "code",
        "id": "avgr6GfiUh8t",
        "outputId": "e7f14a28-fb0c-409f-e2d9-97e5998ebb20",
        "colab": {
          "base_uri": "https://localhost:8080/",
          "height": 142
        }
      },
      "source": [
        "color = pd.Series(['Red', 'White', 'Rosé'])\n",
        "type = pd.Series(['Still', 'Sparkling', 'Fortified'])\n",
        "\n",
        "pd.DataFrame({ 'color': color, 'wine_type': type })"
      ],
      "execution_count": 0,
      "outputs": [
        {
          "output_type": "execute_result",
          "data": {
            "text/html": [
              "<div>\n",
              "<style scoped>\n",
              "    .dataframe tbody tr th:only-of-type {\n",
              "        vertical-align: middle;\n",
              "    }\n",
              "\n",
              "    .dataframe tbody tr th {\n",
              "        vertical-align: top;\n",
              "    }\n",
              "\n",
              "    .dataframe thead th {\n",
              "        text-align: right;\n",
              "    }\n",
              "</style>\n",
              "<table border=\"1\" class=\"dataframe\">\n",
              "  <thead>\n",
              "    <tr style=\"text-align: right;\">\n",
              "      <th></th>\n",
              "      <th>color</th>\n",
              "      <th>wine_type</th>\n",
              "    </tr>\n",
              "  </thead>\n",
              "  <tbody>\n",
              "    <tr>\n",
              "      <th>0</th>\n",
              "      <td>Red</td>\n",
              "      <td>Still</td>\n",
              "    </tr>\n",
              "    <tr>\n",
              "      <th>1</th>\n",
              "      <td>White</td>\n",
              "      <td>Sparkling</td>\n",
              "    </tr>\n",
              "    <tr>\n",
              "      <th>2</th>\n",
              "      <td>Rosé</td>\n",
              "      <td>Fortified</td>\n",
              "    </tr>\n",
              "  </tbody>\n",
              "</table>\n",
              "</div>"
            ],
            "text/plain": [
              "   color  wine_type\n",
              "0    Red      Still\n",
              "1  White  Sparkling\n",
              "2   Rosé  Fortified"
            ]
          },
          "metadata": {
            "tags": []
          },
          "execution_count": 4
        }
      ]
    },
    {
      "cell_type": "markdown",
      "metadata": {
        "colab_type": "text",
        "id": "oa5wfZT7VHJl"
      },
      "source": [
        "But most of the time, you load an entire file into a `DataFrame`. The following example loads Datafest wine Marks. Run the following cell to create your connection"
      ]
    },
    {
      "cell_type": "code",
      "metadata": {
        "colab_type": "code",
        "id": "av6RYOraVG1V",
        "colab": {}
      },
      "source": [
        "PGHOST=\"datafest201912.library.ucdavis.edu\"\n",
        "PGDATABASE=\"postgres\"\n",
        "PGPORT=\"49152\"\n",
        "PGUSER=\"anon\"\n",
        "PGPASSWORD=\"anon\"\n",
        "\n",
        "conn_string = (\"host={} port={} dbname={} user={} password={}\") \\\n",
        "  .format(PGHOST, PGPORT, PGDATABASE, PGUSER, PGPASSWORD)\n",
        "\n",
        "conn=psycopg2.connect(conn_string)\n"
      ],
      "execution_count": 0,
      "outputs": []
    },
    {
      "cell_type": "markdown",
      "metadata": {
        "id": "3-iRSzoZ_bYM",
        "colab_type": "text"
      },
      "source": [
        "Next, make an SQL selection and save to a data frame:"
      ]
    },
    {
      "cell_type": "code",
      "metadata": {
        "id": "dkO_4IMn_t2m",
        "colab_type": "code",
        "outputId": "906adb47-d372-4e3d-a49a-6b336bd5b29e",
        "colab": {
          "base_uri": "https://localhost:8080/",
          "height": 317
        }
      },
      "source": [
        "# edit SQL string here\n",
        "sql_command = \"SELECT * FROM {}.{};\".format(\"datafest\", \"mark\")\n",
        "marks = pd.read_sql(sql_command, conn)\n",
        "marks.describe()"
      ],
      "execution_count": 0,
      "outputs": [
        {
          "output_type": "execute_result",
          "data": {
            "text/html": [
              "<div>\n",
              "<style scoped>\n",
              "    .dataframe tbody tr th:only-of-type {\n",
              "        vertical-align: middle;\n",
              "    }\n",
              "\n",
              "    .dataframe tbody tr th {\n",
              "        vertical-align: top;\n",
              "    }\n",
              "\n",
              "    .dataframe thead th {\n",
              "        text-align: right;\n",
              "    }\n",
              "</style>\n",
              "<table border=\"1\" class=\"dataframe\">\n",
              "  <thead>\n",
              "    <tr style=\"text-align: right;\">\n",
              "      <th></th>\n",
              "      <th>implicator_top</th>\n",
              "      <th>implicator_left</th>\n",
              "      <th>implicator_bottom</th>\n",
              "      <th>implicator_right</th>\n",
              "      <th>region_top</th>\n",
              "      <th>region_left</th>\n",
              "      <th>region_bottom</th>\n",
              "      <th>region_right</th>\n",
              "      <th>vintage</th>\n",
              "      <th>bottle_price</th>\n",
              "      <th>case_price</th>\n",
              "    </tr>\n",
              "  </thead>\n",
              "  <tbody>\n",
              "    <tr>\n",
              "      <th>count</th>\n",
              "      <td>341.000000</td>\n",
              "      <td>341.000000</td>\n",
              "      <td>341.000000</td>\n",
              "      <td>341.000000</td>\n",
              "      <td>341.000000</td>\n",
              "      <td>341.000000</td>\n",
              "      <td>341.000000</td>\n",
              "      <td>341.000000</td>\n",
              "      <td>62.000000</td>\n",
              "      <td>6.000000</td>\n",
              "      <td>6.000000</td>\n",
              "    </tr>\n",
              "    <tr>\n",
              "      <th>mean</th>\n",
              "      <td>1360.586510</td>\n",
              "      <td>1680.662757</td>\n",
              "      <td>1564.539589</td>\n",
              "      <td>2878.932551</td>\n",
              "      <td>1551.953079</td>\n",
              "      <td>1665.724340</td>\n",
              "      <td>3070.375367</td>\n",
              "      <td>3635.718475</td>\n",
              "      <td>1986.322581</td>\n",
              "      <td>1.753333</td>\n",
              "      <td>19.666667</td>\n",
              "    </tr>\n",
              "    <tr>\n",
              "      <th>std</th>\n",
              "      <td>1156.831104</td>\n",
              "      <td>1470.408209</td>\n",
              "      <td>1171.376107</td>\n",
              "      <td>1499.544232</td>\n",
              "      <td>1296.251783</td>\n",
              "      <td>1569.719123</td>\n",
              "      <td>1287.140636</td>\n",
              "      <td>1476.204670</td>\n",
              "      <td>18.805104</td>\n",
              "      <td>0.562909</td>\n",
              "      <td>6.047038</td>\n",
              "    </tr>\n",
              "    <tr>\n",
              "      <th>min</th>\n",
              "      <td>16.000000</td>\n",
              "      <td>48.000000</td>\n",
              "      <td>97.000000</td>\n",
              "      <td>220.000000</td>\n",
              "      <td>48.000000</td>\n",
              "      <td>-64.000000</td>\n",
              "      <td>49.000000</td>\n",
              "      <td>1040.000000</td>\n",
              "      <td>1952.000000</td>\n",
              "      <td>0.970000</td>\n",
              "      <td>11.500000</td>\n",
              "    </tr>\n",
              "    <tr>\n",
              "      <th>25%</th>\n",
              "      <td>395.000000</td>\n",
              "      <td>488.000000</td>\n",
              "      <td>557.000000</td>\n",
              "      <td>1580.000000</td>\n",
              "      <td>415.000000</td>\n",
              "      <td>256.000000</td>\n",
              "      <td>2212.000000</td>\n",
              "      <td>2768.000000</td>\n",
              "      <td>1970.000000</td>\n",
              "      <td>1.390000</td>\n",
              "      <td>15.500000</td>\n",
              "    </tr>\n",
              "    <tr>\n",
              "      <th>50%</th>\n",
              "      <td>985.000000</td>\n",
              "      <td>1104.000000</td>\n",
              "      <td>1261.000000</td>\n",
              "      <td>2728.000000</td>\n",
              "      <td>1157.000000</td>\n",
              "      <td>1084.000000</td>\n",
              "      <td>3140.000000</td>\n",
              "      <td>3640.000000</td>\n",
              "      <td>1993.500000</td>\n",
              "      <td>1.790000</td>\n",
              "      <td>20.000000</td>\n",
              "    </tr>\n",
              "    <tr>\n",
              "      <th>75%</th>\n",
              "      <td>2133.000000</td>\n",
              "      <td>3016.000000</td>\n",
              "      <td>2269.000000</td>\n",
              "      <td>3952.000000</td>\n",
              "      <td>2581.000000</td>\n",
              "      <td>3004.000000</td>\n",
              "      <td>3675.000000</td>\n",
              "      <td>4880.000000</td>\n",
              "      <td>2002.750000</td>\n",
              "      <td>2.115000</td>\n",
              "      <td>23.750000</td>\n",
              "    </tr>\n",
              "    <tr>\n",
              "      <th>max</th>\n",
              "      <td>4752.000000</td>\n",
              "      <td>5044.000000</td>\n",
              "      <td>5136.000000</td>\n",
              "      <td>5808.000000</td>\n",
              "      <td>5848.000000</td>\n",
              "      <td>4984.000000</td>\n",
              "      <td>5728.000000</td>\n",
              "      <td>5896.000000</td>\n",
              "      <td>2010.000000</td>\n",
              "      <td>2.490000</td>\n",
              "      <td>27.500000</td>\n",
              "    </tr>\n",
              "  </tbody>\n",
              "</table>\n",
              "</div>"
            ],
            "text/plain": [
              "       implicator_top  implicator_left  ...  bottle_price  case_price\n",
              "count      341.000000       341.000000  ...      6.000000    6.000000\n",
              "mean      1360.586510      1680.662757  ...      1.753333   19.666667\n",
              "std       1156.831104      1470.408209  ...      0.562909    6.047038\n",
              "min         16.000000        48.000000  ...      0.970000   11.500000\n",
              "25%        395.000000       488.000000  ...      1.390000   15.500000\n",
              "50%        985.000000      1104.000000  ...      1.790000   20.000000\n",
              "75%       2133.000000      3016.000000  ...      2.115000   23.750000\n",
              "max       4752.000000      5044.000000  ...      2.490000   27.500000\n",
              "\n",
              "[8 rows x 11 columns]"
            ]
          },
          "metadata": {
            "tags": []
          },
          "execution_count": 6
        }
      ]
    },
    {
      "cell_type": "markdown",
      "metadata": {
        "colab_type": "text",
        "id": "WrkBjfz5kEQu"
      },
      "source": [
        "The example above used `DataFrame.describe` to show interesting statistics about a `DataFrame`. Another useful function is `DataFrame.head`, which displays the first few records of a `DataFrame`:"
      ]
    },
    {
      "cell_type": "code",
      "metadata": {
        "colab_type": "code",
        "id": "s3ND3bgOkB5k",
        "outputId": "9aaf4752-fda6-45e2-8331-7d557b1ed92f",
        "colab": {
          "base_uri": "https://localhost:8080/",
          "height": 462
        }
      },
      "source": [
        "marks.head()"
      ],
      "execution_count": 0,
      "outputs": [
        {
          "output_type": "execute_result",
          "data": {
            "text/html": [
              "<div>\n",
              "<style scoped>\n",
              "    .dataframe tbody tr th:only-of-type {\n",
              "        vertical-align: middle;\n",
              "    }\n",
              "\n",
              "    .dataframe tbody tr th {\n",
              "        vertical-align: top;\n",
              "    }\n",
              "\n",
              "    .dataframe thead th {\n",
              "        text-align: right;\n",
              "    }\n",
              "</style>\n",
              "<table border=\"1\" class=\"dataframe\">\n",
              "  <thead>\n",
              "    <tr style=\"text-align: right;\">\n",
              "      <th></th>\n",
              "      <th>mark_id</th>\n",
              "      <th>page_id</th>\n",
              "      <th>user_id</th>\n",
              "      <th>type</th>\n",
              "      <th>implicator_top</th>\n",
              "      <th>implicator_left</th>\n",
              "      <th>implicator_bottom</th>\n",
              "      <th>implicator_right</th>\n",
              "      <th>region_top</th>\n",
              "      <th>region_left</th>\n",
              "      <th>region_bottom</th>\n",
              "      <th>region_right</th>\n",
              "      <th>section_title</th>\n",
              "      <th>wine_type</th>\n",
              "      <th>bottle_type</th>\n",
              "      <th>color</th>\n",
              "      <th>vintage</th>\n",
              "      <th>country</th>\n",
              "      <th>bottle_price</th>\n",
              "      <th>case_price</th>\n",
              "      <th>created</th>\n",
              "    </tr>\n",
              "  </thead>\n",
              "  <tbody>\n",
              "    <tr>\n",
              "      <th>0</th>\n",
              "      <td>e5e144bd-8376-40ca-8cc1-cbce98f09afb</td>\n",
              "      <td>/collection/sherry-lehmann/D-005/d7160g/media/...</td>\n",
              "      <td>quinn</td>\n",
              "      <td>wine_type</td>\n",
              "      <td>256</td>\n",
              "      <td>3112</td>\n",
              "      <td>496</td>\n",
              "      <td>4872</td>\n",
              "      <td>696</td>\n",
              "      <td>2872</td>\n",
              "      <td>3264</td>\n",
              "      <td>5024</td>\n",
              "      <td>None</td>\n",
              "      <td>sparkling</td>\n",
              "      <td>None</td>\n",
              "      <td>None</td>\n",
              "      <td>NaN</td>\n",
              "      <td>None</td>\n",
              "      <td>NaN</td>\n",
              "      <td>NaN</td>\n",
              "      <td>2019-12-10 01:32:08.589580</td>\n",
              "    </tr>\n",
              "    <tr>\n",
              "      <th>1</th>\n",
              "      <td>c278fa82-83d3-42ae-bbd2-946cb0e4633f</td>\n",
              "      <td>/collection/sherry-lehmann/D-637/d7265p/media/...</td>\n",
              "      <td>quinn</td>\n",
              "      <td>vintage</td>\n",
              "      <td>1779</td>\n",
              "      <td>3228</td>\n",
              "      <td>1899</td>\n",
              "      <td>3740</td>\n",
              "      <td>2011</td>\n",
              "      <td>3052</td>\n",
              "      <td>2663</td>\n",
              "      <td>3912</td>\n",
              "      <td>None</td>\n",
              "      <td>None</td>\n",
              "      <td>None</td>\n",
              "      <td>None</td>\n",
              "      <td>1976.0</td>\n",
              "      <td>None</td>\n",
              "      <td>NaN</td>\n",
              "      <td>NaN</td>\n",
              "      <td>2019-12-10 18:15:20.614147</td>\n",
              "    </tr>\n",
              "    <tr>\n",
              "      <th>2</th>\n",
              "      <td>b53d3882-1b02-4435-9f0e-3548be90d430</td>\n",
              "      <td>/collection/sherry-lehmann/D-202/d7v30w/media/...</td>\n",
              "      <td>quinn</td>\n",
              "      <td>section_title</td>\n",
              "      <td>976</td>\n",
              "      <td>340</td>\n",
              "      <td>1180</td>\n",
              "      <td>972</td>\n",
              "      <td>800</td>\n",
              "      <td>256</td>\n",
              "      <td>4704</td>\n",
              "      <td>3760</td>\n",
              "      <td>Sherry-Lehmann Inc</td>\n",
              "      <td>None</td>\n",
              "      <td>None</td>\n",
              "      <td>None</td>\n",
              "      <td>NaN</td>\n",
              "      <td>None</td>\n",
              "      <td>NaN</td>\n",
              "      <td>NaN</td>\n",
              "      <td>2019-12-10 01:32:08.589580</td>\n",
              "    </tr>\n",
              "    <tr>\n",
              "      <th>3</th>\n",
              "      <td>12f951f6-cf4d-49d1-a07c-6362e62da9fe</td>\n",
              "      <td>/collection/sherry-lehmann/D-202/d7fw2v/media/...</td>\n",
              "      <td>quinn</td>\n",
              "      <td>section_title</td>\n",
              "      <td>528</td>\n",
              "      <td>560</td>\n",
              "      <td>784</td>\n",
              "      <td>3432</td>\n",
              "      <td>712</td>\n",
              "      <td>528</td>\n",
              "      <td>1560</td>\n",
              "      <td>3728</td>\n",
              "      <td>Red Wines of the Rhone Valley</td>\n",
              "      <td>None</td>\n",
              "      <td>None</td>\n",
              "      <td>None</td>\n",
              "      <td>NaN</td>\n",
              "      <td>None</td>\n",
              "      <td>NaN</td>\n",
              "      <td>NaN</td>\n",
              "      <td>2019-12-10 18:54:08.641467</td>\n",
              "    </tr>\n",
              "    <tr>\n",
              "      <th>4</th>\n",
              "      <td>3d78f51e-be01-4409-8ea4-d68587e0b200</td>\n",
              "      <td>/collection/sherry-lehmann/D-202/d7gw25/media/...</td>\n",
              "      <td>foo</td>\n",
              "      <td>section_title</td>\n",
              "      <td>864</td>\n",
              "      <td>240</td>\n",
              "      <td>1672</td>\n",
              "      <td>3592</td>\n",
              "      <td>1784</td>\n",
              "      <td>256</td>\n",
              "      <td>5224</td>\n",
              "      <td>3560</td>\n",
              "      <td>Red burgundies</td>\n",
              "      <td>None</td>\n",
              "      <td>None</td>\n",
              "      <td>None</td>\n",
              "      <td>NaN</td>\n",
              "      <td>None</td>\n",
              "      <td>NaN</td>\n",
              "      <td>NaN</td>\n",
              "      <td>2019-12-11 09:31:37.141384</td>\n",
              "    </tr>\n",
              "  </tbody>\n",
              "</table>\n",
              "</div>"
            ],
            "text/plain": [
              "                                mark_id  ...                    created\n",
              "0  e5e144bd-8376-40ca-8cc1-cbce98f09afb  ... 2019-12-10 01:32:08.589580\n",
              "1  c278fa82-83d3-42ae-bbd2-946cb0e4633f  ... 2019-12-10 18:15:20.614147\n",
              "2  b53d3882-1b02-4435-9f0e-3548be90d430  ... 2019-12-10 01:32:08.589580\n",
              "3  12f951f6-cf4d-49d1-a07c-6362e62da9fe  ... 2019-12-10 18:54:08.641467\n",
              "4  3d78f51e-be01-4409-8ea4-d68587e0b200  ... 2019-12-11 09:31:37.141384\n",
              "\n",
              "[5 rows x 21 columns]"
            ]
          },
          "metadata": {
            "tags": []
          },
          "execution_count": 7
        }
      ]
    },
    {
      "cell_type": "markdown",
      "metadata": {
        "colab_type": "text",
        "id": "w9-Es5Y6laGd"
      },
      "source": [
        "Another powerful feature of *pandas* is graphing. For example, `DataFrame.hist` lets you quickly study the distribution of values in a column:"
      ]
    },
    {
      "cell_type": "code",
      "metadata": {
        "colab_type": "code",
        "id": "nqndFVXVlbPN",
        "outputId": "02b63846-5ff1-4068-e8d9-acdfd56b4c6e",
        "colab": {
          "base_uri": "https://localhost:8080/",
          "height": 315
        }
      },
      "source": [
        "marks.hist('implicator_top')"
      ],
      "execution_count": 0,
      "outputs": [
        {
          "output_type": "execute_result",
          "data": {
            "text/plain": [
              "array([[<matplotlib.axes._subplots.AxesSubplot object at 0x7fdcf2d208d0>]],\n",
              "      dtype=object)"
            ]
          },
          "metadata": {
            "tags": []
          },
          "execution_count": 8
        },
        {
          "output_type": "display_data",
          "data": {
            "image/png": "[encoded data removed]",
            "text/plain": [
              "<Figure size 432x288 with 1 Axes>"
            ]
          },
          "metadata": {
            "tags": []
          }
        }
      ]
    }
  ]
}